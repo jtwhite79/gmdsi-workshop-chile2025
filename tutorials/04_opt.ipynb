{
 "cells": [
  {
   "cell_type": "code",
   "execution_count": null,
   "id": "a58e0fd2-f286-4535-aa9f-24bdf1bfc4ca",
   "metadata": {},
   "outputs": [],
   "source": [
    "import os\n",
    "import warnings\n",
    "warnings.filterwarnings(\"ignore\")\n",
    "warnings.filterwarnings(\"ignore\", category=DeprecationWarning) \n",
    "import numpy as np\n",
    "import pandas as pd\n",
    "font = {'size'   : 10}\n",
    "import matplotlib\n",
    "matplotlib.rc('font', **font)\n",
    "import matplotlib.pyplot as plt;\n",
    "import shutil\n",
    "import psutil\n",
    "\n",
    "import sys\n",
    "import pyemu\n",
    "import flopy\n",
    "assert \"dependencies\" in flopy.__file__\n",
    "assert \"dependencies\" in pyemu.__file__\n",
    "sys.path.insert(0,\"..\")\n",
    "import herebedragons as hbd\n"
   ]
  },
  {
   "cell_type": "code",
   "execution_count": null,
   "id": "0aed177b-0457-444c-a6cb-84be46a8d273",
   "metadata": {},
   "outputs": [],
   "source": [
    "# specify the temporary working folder\n",
    "t_d = os.path.join('pst_template_opt')\n",
    "if os.path.exists(t_d):\n",
    "    shutil.rmtree(t_d)\n",
    "\n",
    "org_t_d = os.path.join(\"master_ies0\")\n",
    "if not os.path.exists(org_t_d):\n",
    "    raise Exception()\n",
    "\n",
    "shutil.copytree(org_t_d,t_d)"
   ]
  },
  {
   "cell_type": "code",
   "execution_count": null,
   "id": "c47db258-5dbc-4f17-aeb0-cbc470d74f39",
   "metadata": {},
   "outputs": [],
   "source": [
    "pst = pyemu.Pst(os.path.join(t_d,\"pest.pst\"))\n",
    "pe = pst.ies.get(\"paren\",pst.ies.phiactual.iteration.max())"
   ]
  },
  {
   "cell_type": "code",
   "execution_count": null,
   "id": "005ef0e9-4f4a-4ba6-86f6-e7b4c124d58c",
   "metadata": {},
   "outputs": [],
   "source": [
    "par = pst.parameter_data\n",
    "par.loc[pe.columns,\"parval1\"] = pe.loc[\"base\",:].values.flatten()"
   ]
  },
  {
   "cell_type": "code",
   "execution_count": null,
   "id": "b3d830ec-2466-47c1-88c1-76b10077f410",
   "metadata": {},
   "outputs": [],
   "source": [
    "pst.control_data.noptmax = 0\n",
    "pst.write(os.path.join(t_d,\"pest.pst\"),version=2)\n",
    "pyemu.os_utils.run(\"pestpp-ies pest.pst\",cwd=t_d)"
   ]
  },
  {
   "cell_type": "code",
   "execution_count": null,
   "id": "88c28194-c21f-4131-8c84-d20502c38dba",
   "metadata": {},
   "outputs": [],
   "source": [
    "pst.set_res(os.path.join(t_d,\"pest.base.rei\"))"
   ]
  },
  {
   "cell_type": "code",
   "execution_count": null,
   "id": "c9f30c81-7e9b-4204-b999-ca6ab59ae014",
   "metadata": {},
   "outputs": [],
   "source": [
    "forecasts = pst.pestpp_options[\"forecasts\"].split(\",\")\n",
    "forecasts.sort()\n",
    "forecasts"
   ]
  },
  {
   "cell_type": "code",
   "execution_count": null,
   "id": "ba2fd751-2f2b-4238-8fdf-7d119d3ce482",
   "metadata": {},
   "outputs": [],
   "source": [
    "res = pst.res\n",
    "res.loc[forecasts,:]"
   ]
  },
  {
   "cell_type": "code",
   "execution_count": null,
   "id": "d9feaa07-7ab8-4503-8bb0-7065ed1ce931",
   "metadata": {},
   "outputs": [],
   "source": [
    "res.loc[res.name.str.contains(\"gde\"),:]"
   ]
  },
  {
   "cell_type": "markdown",
   "id": "c6dfdd08-b3a6-446a-964d-e00593ac3f5c",
   "metadata": {},
   "source": [
    "So our calibrated model is over pumping: the simulated pit level is lower than 80 and the end of mining GDE flux is not even close to the pre-development estimate...\n",
    "\n",
    "Let's see if we can optimize our way out of this issue"
   ]
  },
  {
   "cell_type": "code",
   "execution_count": null,
   "id": "aeb4805f-43a0-4d03-abb0-f2b934651c5a",
   "metadata": {},
   "outputs": [],
   "source": [
    "\n"
   ]
  },
  {
   "cell_type": "code",
   "execution_count": null,
   "id": "013b9153-790c-4260-95d1-3a6e62a433d5",
   "metadata": {},
   "outputs": [],
   "source": [
    "wpar = par.loc[par.parnme.str.contains(\"wel\"),:]"
   ]
  },
  {
   "cell_type": "code",
   "execution_count": null,
   "id": "8b119832-4f77-410a-9233-8743c0f18733",
   "metadata": {},
   "outputs": [],
   "source": [
    "wpar.shape"
   ]
  },
  {
   "cell_type": "code",
   "execution_count": null,
   "id": "fcf3599b-5e7b-4b1d-b7c5-1524e1a78774",
   "metadata": {},
   "outputs": [],
   "source": [
    "par.loc[wpar.parnme,\"partrans\"] = \"none\"\n",
    "pst.pestpp_options[\"opt_dec_var_groups\"] = wpar.pargp.unique().tolist()\n",
    "pargp = pst.parameter_groups\n",
    "pargp.loc[pst.pestpp_options[\"opt_dec_var_groups\"],\"inctyp\"] = \"absolute\"\n",
    "pargp.loc[pst.pestpp_options[\"opt_dec_var_groups\"],\"derinc\"] = 250\n"
   ]
  },
  {
   "cell_type": "code",
   "execution_count": null,
   "id": "c93fa3bb-26cf-4ca0-859f-d94f8a19e00d",
   "metadata": {},
   "outputs": [],
   "source": []
  },
  {
   "cell_type": "code",
   "execution_count": null,
   "id": "a605146a-1eca-4b4b-aa2f-ef1b6cce2ce0",
   "metadata": {},
   "outputs": [],
   "source": [
    "obs = pst.observation_data\n",
    "obs.loc[forecasts[0],\"obgnme\"] = \"less_than\"\n",
    "obs.loc[forecasts[0],\"obsval\"] = obs.loc[forecasts[0].replace(\"time:40151\",\"time:1\"),\"obsval\"]\n",
    "obs.loc[forecasts[0],\"weight\"] = 1.0"
   ]
  },
  {
   "cell_type": "code",
   "execution_count": null,
   "id": "84211f5c-7d7e-4d20-b85a-c72c32b95828",
   "metadata": {},
   "outputs": [],
   "source": [
    "obs = pst.observation_data\n",
    "dobs = obs.loc[(obs.obsnme.str.contains(\"gde\")) & (obs.obsnme.str.contains(\"time:3651\")),:]\n",
    "assert dobs.shape[0] == 1\n",
    "obs.loc[dobs.obsnme,\"weight\"] = 1.0\n",
    "obs.loc[dobs.obsnme,\"obgnme\"] = \"less_than\"\n",
    "obs.loc[dobs.obsnme,\"obsval\"] = obs.loc[forecasts[0].replace(\"time:40151\",\"time:1\"),\"obsval\"]\n"
   ]
  },
  {
   "cell_type": "code",
   "execution_count": null,
   "id": "158bf3dc-e29c-4f11-95e5-2b25d24062eb",
   "metadata": {},
   "outputs": [],
   "source": [
    "obs.loc[forecasts[1],\"obsval\"] = 80\n",
    "obs.loc[forecasts[1],\"obgnme\"] = \"less_than\"\n",
    "obs.loc[forecasts[1],\"weight\"] = 1.0"
   ]
  },
  {
   "cell_type": "markdown",
   "id": "30961365-1b4b-4683-ac6d-c2f5c792d40f",
   "metadata": {},
   "source": [
    "Make sure we arent reinjecting more water than we are extracting"
   ]
  },
  {
   "cell_type": "code",
   "execution_count": null,
   "id": "737d62da-88c8-4ee6-8b62-5776af702209",
   "metadata": {},
   "outputs": [],
   "source": [
    "diffobs = obs.loc[(obs.oname==\"inc\") & (obs.usecol==\"totwel\") & (obs.totim==\"3651\"),:]\n",
    "assert diffobs.shape[0] == 1\n",
    "obs.loc[diffobs.obsnme,\"weight\"] = 1.0\n",
    "obs.loc[diffobs.obsnme,\"obsval\"] = 0.0\n",
    "obs.loc[diffobs.obsnme,\"obgnme\"] = \"less_than\""
   ]
  },
  {
   "cell_type": "markdown",
   "id": "4e1c1470-bc8c-422f-a3e4-43774cece034",
   "metadata": {},
   "source": [
    "For an objective function, we want to minimize the total flux of water being used for both dewatering and reinjection.  That value comes from the modflow list file budget and the absolute sum of both wel packages (we added that bit way back in the pstfrom notebook)"
   ]
  },
  {
   "cell_type": "code",
   "execution_count": null,
   "id": "56482d60-00f1-4b23-8305-408838c4b9ab",
   "metadata": {},
   "outputs": [],
   "source": [
    "aobs = obs.loc[(obs.oname==\"inc\") & (obs.usecol==\"abstotwel\") & (obs.totim==\"3651\"),:]\n",
    "assert aobs.shape[0] == 1\n",
    "objname = aobs.obsnme.values[0]\n",
    "#obs.loc[objname,\"weight\"] = 1.0\n",
    "obs.loc[objname,\"obgnme\"] = \"less_than\"\n",
    "pst.pestpp_options[\"opt_obj_func\"] = objname"
   ]
  },
  {
   "cell_type": "code",
   "execution_count": null,
   "id": "e2d79a23-c769-4cdd-9ce5-d1523e72e9a1",
   "metadata": {},
   "outputs": [],
   "source": []
  },
  {
   "cell_type": "markdown",
   "id": "6bea0950-7fa1-44d0-9583-3d56ed3b8209",
   "metadata": {},
   "source": []
  },
  {
   "cell_type": "code",
   "execution_count": null,
   "id": "40ed534a-b526-458c-ad89-e9e834c9bf05",
   "metadata": {},
   "outputs": [],
   "source": [
    "pst.control_data.noptmax = 3"
   ]
  },
  {
   "cell_type": "code",
   "execution_count": null,
   "id": "96d6575d-973d-40fa-a50a-d0ec4450bd98",
   "metadata": {},
   "outputs": [],
   "source": [
    "pst.write(os.path.join(t_d,\"pest.pst\"),version=2)"
   ]
  },
  {
   "cell_type": "code",
   "execution_count": null,
   "id": "56f1e752-5ac5-448e-b47f-8533f1bb6a71",
   "metadata": {},
   "outputs": [],
   "source": [
    "num_workers=30\n",
    "m_d = \"master_opt0\""
   ]
  },
  {
   "cell_type": "code",
   "execution_count": null,
   "id": "1673c1ba-d62b-4b5c-9455-7de5f7c76b62",
   "metadata": {},
   "outputs": [],
   "source": [
    "pyemu.os_utils.start_workers(t_d, # the folder which contains the \"template\" PEST dataset\n",
    "                            'pestpp-opt', #the PEST software version we want to run\n",
    "                            'pest.pst', # the control file to use with PEST\n",
    "                            num_workers=num_workers, #how many agents to deploy\n",
    "                            worker_root='.', #where to deploy the agent directories; relative to where python is running\n",
    "                            master_dir=m_d, #the manager directory\n",
    "                            )"
   ]
  },
  {
   "cell_type": "markdown",
   "id": "592449d8-0cd7-4840-8f6a-cdc5991573e9",
   "metadata": {},
   "source": [
    "Ruh roh - our problem is infeasible!  that means its not possible to make the model meet both the strict pit gw level requirement and the post-closure and end-of-mining GDE flux requirement #sad\n",
    "\n"
   ]
  },
  {
   "cell_type": "markdown",
   "id": "7ae4c994-e173-4075-bfde-4632518a8de9",
   "metadata": {},
   "source": [
    "Let's twist this problem a bit more to extract more valuable information from the analysis.  Let's turn the GDE flux at the end of mining into the objective function to see how high we can make that value.  "
   ]
  },
  {
   "cell_type": "code",
   "execution_count": null,
   "id": "9634249a-2aed-4cd4-82fc-164dd6f7cb53",
   "metadata": {},
   "outputs": [],
   "source": [
    "alt_t_d = \"pst_template_optalt\"\n",
    "if os.path.exists(alt_t_d):\n",
    "    shutil.rmtree(alt_t_d)\n",
    "shutil.copytree(t_d,alt_t_d)\n",
    "pst = pyemu.Pst(os.path.join(alt_t_d,\"pest.pst\"))\n",
    "obs = pst.observation_data"
   ]
  },
  {
   "cell_type": "code",
   "execution_count": null,
   "id": "ea062e20-9ae0-448b-a2e8-0fa435b86bd6",
   "metadata": {},
   "outputs": [],
   "source": [
    "obs.loc[dobs.obsnme,\"weight\"] = 0.0\n",
    "obs.loc[forecasts[0],\"weight\"] = 0.0\n",
    "pst.pestpp_options[\"opt_obj_func\"] = dobs.obsnme.values[0]\n",
    "pst.control_data.noptmax = 3\n",
    "pst.write(os.path.join(alt_t_d,\"pest.pst\"),version=2)\n",
    "m_d = \"master_optalt\"\n",
    "pyemu.os_utils.start_workers(alt_t_d, # the folder which contains the \"template\" PEST dataset\n",
    "                            'pestpp-opt', #the PEST software version we want to run\n",
    "                            'pest.pst', # the control file to use with PEST\n",
    "                            num_workers=num_workers, #how many agents to deploy\n",
    "                            worker_root='.', #where to deploy the agent directories; relative to where python is running\n",
    "                            master_dir=m_d, #the manager directory\n",
    "                            )\n"
   ]
  },
  {
   "cell_type": "markdown",
   "id": "d4ae3971-e55e-4e12-ad90-12aa9ba8b07e",
   "metadata": {},
   "source": [
    "Another option is to loosen things up a lil - what if we only need to be within two times 20% of the pre-development GDE flux - it is after all an imprecise measured value and we said the standard deviation was 20%, so two sigma is approximately 95% confidence..."
   ]
  },
  {
   "cell_type": "code",
   "execution_count": null,
   "id": "30ae0ade-1b7f-4076-af90-ac01760ea794",
   "metadata": {},
   "outputs": [],
   "source": [
    "alt2_t_d = \"pst_template_optalt2\"\n",
    "if os.path.exists(alt2_t_d):\n",
    "    shutil.rmtree(alt2_t_d)\n",
    "shutil.copytree(t_d,alt2_t_d)\n",
    "pst = pyemu.Pst(os.path.join(alt2_t_d,\"pest.pst\"))\n",
    "obs = pst.observation_data\n",
    "predev_gde_val = obs.loc[forecasts[0],\"obsval\"] = obs.loc[forecasts[0].replace(\"time:40151\",\"time:1\"),\"obsval\"]\n",
    "print(predev_gde_val)\n",
    "rhs_val = predev_gde_val - ((predev_gde_val * 0.2)*2)\n",
    "print(rhs_val)\n",
    "obs.loc[forecasts[0],\"obsval\"] = rhs_val\n",
    "obs.loc[dobs.obsnme,\"obsval\"] = rhs_val\n"
   ]
  },
  {
   "cell_type": "code",
   "execution_count": null,
   "id": "2f6d29fc-2d81-4685-b847-1c72f6229dd7",
   "metadata": {},
   "outputs": [],
   "source": [
    "pst.write(os.path.join(alt2_t_d,\"pest.pst\"),version=2)\n",
    "m_d = \"master_optalt2"
   ]
  },
  {
   "cell_type": "code",
   "execution_count": null,
   "id": "54af4e0a-97b4-4a70-a038-68eb417ab597",
   "metadata": {},
   "outputs": [],
   "source": [
    "pyemu.os_utils.start_workers(alt2_t_d, # the folder which contains the \"template\" PEST dataset\n",
    "                            'pestpp-opt', #the PEST software version we want to run\n",
    "                            'pest.pst', # the control file to use with PEST\n",
    "                            num_workers=num_workers, #how many agents to deploy\n",
    "                            worker_root='.', #where to deploy the agent directories; relative to where python is running\n",
    "                            master_dir=m_d, #the manager directory\n",
    "                            )"
   ]
  },
  {
   "cell_type": "markdown",
   "id": "82a0a5a5-f429-4eb5-b7cf-4330cb2d8d7c",
   "metadata": {},
   "source": [
    "How many \"scenarios\" would you have to run to do this same analysis #thinkaboutit"
   ]
  },
  {
   "cell_type": "code",
   "execution_count": null,
   "id": "4d9b0cbf-dcae-495c-8469-738ab39cce96",
   "metadata": {},
   "outputs": [],
   "source": [
    "pst.set_res(os.path.join(m_d,\"pest.{0}.sim.rei\".format(pst.control_data.noptmax)))"
   ]
  },
  {
   "cell_type": "code",
   "execution_count": null,
   "id": "15990881-18ad-453a-b2ba-6f8bdb575eef",
   "metadata": {},
   "outputs": [],
   "source": [
    "res = pst.res\n",
    "res.loc[res.name.str.contains(\"gde\"),:]"
   ]
  },
  {
   "cell_type": "code",
   "execution_count": null,
   "id": "821b4167-43ef-4692-94c2-89d78023da9b",
   "metadata": {},
   "outputs": [],
   "source": [
    "pst.parrep(os.path.join(m_d,\"pest.{0}.par\".format(pst.control_data.noptmax)))"
   ]
  },
  {
   "cell_type": "code",
   "execution_count": null,
   "id": "40f108a8-bb29-4bb5-b518-588194945ce1",
   "metadata": {},
   "outputs": [],
   "source": [
    "par = pst.parameter_data\n",
    "par.loc[wpar.parnme,:]"
   ]
  },
  {
   "cell_type": "code",
   "execution_count": null,
   "id": "4ac48e6e-d0a8-43cd-b71c-ae04147d15b0",
   "metadata": {},
   "outputs": [],
   "source": [
    "wpar[\"i\"] = wpar.idx1.astype(int)\n",
    "wpar[\"j\"] = wpar.idx2.astype(int)"
   ]
  },
  {
   "cell_type": "code",
   "execution_count": null,
   "id": "1ebf4687-d994-4399-9595-54b861cb11cf",
   "metadata": {},
   "outputs": [],
   "source": [
    "sim = flopy.mf6.MFSimulation.load(sim_ws=m_d)\n",
    "gwf = sim.get_model()\n",
    "mg = gwf.modelgrid"
   ]
  },
  {
   "cell_type": "code",
   "execution_count": null,
   "id": "152be4c1-4299-4eaa-a2e5-108be9ff2870",
   "metadata": {},
   "outputs": [],
   "source": [
    "X,Y = mg.xcellcenters,mg.ycellcenters"
   ]
  },
  {
   "cell_type": "code",
   "execution_count": null,
   "id": "7e6c6533-d78e-44db-b81e-1fab02f881f2",
   "metadata": {},
   "outputs": [],
   "source": [
    "wpar[\"x\"] = X[wpar.i,wpar.j]\n",
    "wpar[\"y\"] = Y[wpar.i,wpar.j]"
   ]
  },
  {
   "cell_type": "code",
   "execution_count": null,
   "id": "e1f79ff8-c99d-444f-afbb-4de703e06de7",
   "metadata": {},
   "outputs": [],
   "source": [
    "hkarr = np.zeros_like(X)\n",
    "hkobs = obs.loc[obs.oname==\"hk\",:].copy()\n",
    "hkobs[\"i\"] = hkobs.i.astype(int)\n",
    "hkobs[\"j\"] = hkobs.j.astype(int)\n",
    "hkarr[hkobs.i,hkobs.j] = np.log10(hkobs.obsval)\n",
    "hkarr"
   ]
  },
  {
   "cell_type": "code",
   "execution_count": null,
   "id": "3c0003d6-9af6-477d-8ed9-bfa72f7492ef",
   "metadata": {},
   "outputs": [],
   "source": [
    "fig,ax = plt.subplots(1,1)\n",
    "ax.pcolormesh(X,Y,hkarr)\n",
    "ax.scatter(wpar.x,wpar.y,marker='.',s=80,c=par.loc[wpar.parnme,\"parval1\"].values,cmap=\"coolwarm\")"
   ]
  },
  {
   "cell_type": "markdown",
   "id": "0410fcc7-545c-4293-845b-a58d1ac5d70f",
   "metadata": {},
   "source": [
    "## Reliability\n",
    "\n",
    "Lets see how the posterior ensemble of realizations does in terms of feasibility"
   ]
  },
  {
   "cell_type": "code",
   "execution_count": null,
   "id": "7637db9a-32fc-4067-b781-8d6669566c8e",
   "metadata": {},
   "outputs": [],
   "source": [
    "oe_pt = pst.ies.get(\"obsen\",pst.ies.phiactual.iteration.max())\n",
    "oe_feas = oe_pt.loc[oe_pt[forecasts[1]]<80,:]\n",
    "predev_gde_val = obs.loc[forecasts[0].replace(\"time:40151\",\"time:1\"),\"obsval\"]\n",
    "# a gde flux value that plays to our advantage re uncertainty...\n",
    "rhs_val = predev_gde_val - ((predev_gde_val * 0.2)*2)\n",
    "oe_feas = oe_feas.loc[oe_feas[forecasts[0]]<rhs_val,:]\n",
    "oe_feas = oe_feas.loc[oe_feas[dobs.obsnme[0]]<rhs_val,:]\n",
    "oe_feas"
   ]
  },
  {
   "cell_type": "markdown",
   "id": "4f38cc6d-0ca4-4870-a6e6-94e3c288a08d",
   "metadata": {},
   "source": [
    "So only a few realizations are feasible...we can calculate the \"reliability\" on the base scenario (with the standard rates)"
   ]
  },
  {
   "cell_type": "code",
   "execution_count": null,
   "id": "3f7c8695-f110-49e1-a0f8-5d6443517533",
   "metadata": {},
   "outputs": [],
   "source": [
    "reliability = 100 * oe_feas.shape[0]/oe_pt.shape[0]\n",
    "print(reliability,\" percent reliable\")"
   ]
  },
  {
   "cell_type": "markdown",
   "id": "625cd643-8c7d-4f28-bdae-836c8bcb75a7",
   "metadata": {},
   "source": [
    "yikes!  We probably dont want to go to press with these results..."
   ]
  },
  {
   "cell_type": "code",
   "execution_count": null,
   "id": "dfcf1da4-8bdd-4274-839f-1debe6e78b05",
   "metadata": {},
   "outputs": [],
   "source": [
    "pst.pestpp_options[\"opt_par_stack\"] = \"pest.{0}.par.jcb\".format(pst.ies.phiactual.iteration.max())\n",
    "pst.pestpp_options[\"opt_risk\"] = 0.65\n",
    "pst.control_data.noptmax = 3\n",
    "pst.write(os.path.join(t_d,\"pest.pst\"),version=2)"
   ]
  },
  {
   "cell_type": "code",
   "execution_count": null,
   "id": "4b478d86-ba52-4d3d-b3ba-6ea17f4bd4d4",
   "metadata": {},
   "outputs": [],
   "source": [
    "pyemu.os_utils.start_workers(t_d, # the folder which contains the \"template\" PEST dataset\n",
    "                            'pestpp-opt', #the PEST software version we want to run\n",
    "                            'pest.pst', # the control file to use with PEST\n",
    "                            num_workers=num_workers, #how many agents to deploy\n",
    "                            worker_root='.', #where to deploy the agent directories; relative to where python is running\n",
    "                            master_dir=m_d, #the manager directory\n",
    "                            )"
   ]
  },
  {
   "cell_type": "code",
   "execution_count": null,
   "id": "7a7fc05b-3ccd-4353-8bef-b6b24fbc4f19",
   "metadata": {},
   "outputs": [],
   "source": [
    "pst.parrep(os.path.join(m_d,\"pest.{0}.par\".format(pst.control_data.noptmax)))"
   ]
  },
  {
   "cell_type": "code",
   "execution_count": null,
   "id": "9524f4a4-815f-414d-9ddf-b279a7d23737",
   "metadata": {},
   "outputs": [],
   "source": [
    "fig,ax = plt.subplots(1,1)\n",
    "ax.pcolormesh(X,Y,hkarr)\n",
    "ax.scatter(wpar.x,wpar.y,marker='.',s=80,c=par.loc[wpar.parnme,\"parval1\"].values,cmap=\"coolwarm\")"
   ]
  },
  {
   "cell_type": "markdown",
   "id": "db1d5089-6108-4630-b8c8-ecda27051cd4",
   "metadata": {},
   "source": []
  },
  {
   "cell_type": "code",
   "execution_count": null,
   "id": "b75f6b9e-444b-41e3-acc3-1eace5058285",
   "metadata": {},
   "outputs": [],
   "source": []
  },
  {
   "cell_type": "code",
   "execution_count": null,
   "id": "e3532f65-84cb-44e5-86ee-e8a1643a406e",
   "metadata": {},
   "outputs": [],
   "source": []
  }
 ],
 "metadata": {
  "language_info": {
   "name": "python"
  }
 },
 "nbformat": 4,
 "nbformat_minor": 5
}
