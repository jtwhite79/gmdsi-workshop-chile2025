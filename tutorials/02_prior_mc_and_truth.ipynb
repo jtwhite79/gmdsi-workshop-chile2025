{
 "cells": [
  {
   "cell_type": "markdown",
   "id": "7f3e0187-37a6-4ae9-815c-c63004c58a8f",
   "metadata": {},
   "source": [
    "## Prior Monte Carlo\n",
    "\n",
    "blahblahblah\n",
    "\n",
    "We will also use the results of the prior MC to choose the truth for our dual experiment where we see if the modeling can bracket the simulated results of an unseen realization..."
   ]
  },
  {
   "cell_type": "code",
   "execution_count": null,
   "id": "78849386-7bd7-4304-a3c2-9492d4d453bc",
   "metadata": {},
   "outputs": [],
   "source": [
    "\n",
    "\n",
    "import os\n",
    "import shutil\n",
    "import warnings\n",
    "warnings.filterwarnings(\"ignore\")\n",
    "warnings.filterwarnings(\"ignore\", category=DeprecationWarning) \n",
    "import pandas as pd\n",
    "import numpy as np\n",
    "import matplotlib.pyplot as plt;\n",
    "import psutil\n",
    "\n",
    "import sys\n",
    "import pyemu\n",
    "import flopy\n",
    "assert \"dependencies\" in flopy.__file__\n",
    "assert \"dependencies\" in pyemu.__file__\n",
    "sys.path.insert(0,\"..\")\n",
    "\n",
    "# specify the temporary working folder\n",
    "t_d = os.path.join('pst_template_pmc')\n",
    "# get the previously generated PEST dataset\n",
    "org_t_d = os.path.join('pst_template')\n",
    "if not os.path.exists(org_t_d):\n",
    "    raise Exception()\n",
    "if os.path.exists(t_d):\n",
    "    shutil.rmtree(t_d)\n",
    "shutil.copytree(org_t_d,t_d)"
   ]
  },
  {
   "cell_type": "code",
   "execution_count": null,
   "id": "0d243a52-cdb9-48d2-9a57-473fc8cbad86",
   "metadata": {},
   "outputs": [],
   "source": [
    "pst = pyemu.Pst(os.path.join(t_d,\"pest.pst\"))"
   ]
  },
  {
   "cell_type": "code",
   "execution_count": null,
   "id": "93ab2171-936d-4a8d-9e29-0bb75b833011",
   "metadata": {},
   "outputs": [],
   "source": [
    "pst.observation_data[\"weight\"] = 0.0"
   ]
  },
  {
   "cell_type": "code",
   "execution_count": null,
   "id": "401c0096-99b6-46bc-96b9-c13368cf0748",
   "metadata": {},
   "outputs": [],
   "source": [
    "pst.pestpp_options[\"ies_num_reals\"] = 100\n",
    "pst.pestpp_options[\"save_binary\"] = True\n",
    "pst.control_data.noptmax = -1"
   ]
  },
  {
   "cell_type": "code",
   "execution_count": null,
   "id": "578c1985-c55c-4a7d-869e-a700b25c2e14",
   "metadata": {},
   "outputs": [],
   "source": [
    "pst.write(os.path.join(t_d,\"pest.pst\"),version=2)"
   ]
  },
  {
   "cell_type": "code",
   "execution_count": null,
   "id": "c9cf0bb6-a3fb-4a89-886a-0533f3114791",
   "metadata": {},
   "outputs": [],
   "source": [
    "num_workers=30\n",
    "m_d = \"master_prior_mc\""
   ]
  },
  {
   "cell_type": "code",
   "execution_count": null,
   "id": "38592295-5e58-48ef-9509-fa657712dea8",
   "metadata": {},
   "outputs": [],
   "source": [
    "pyemu.os_utils.start_workers(t_d, # the folder which contains the \"template\" PEST dataset\n",
    "                            'pestpp-ies', #the PEST software version we want to run\n",
    "                            'pest.pst', # the control file to use with PEST\n",
    "                            num_workers=num_workers, #how many agents to deploy\n",
    "                            worker_root='.', #where to deploy the agent directories; relative to where python is running\n",
    "                            master_dir=m_d, #the manager directory\n",
    "                            )"
   ]
  },
  {
   "cell_type": "code",
   "execution_count": null,
   "id": "0f98b9cd-09c3-457d-83b4-16c6350fb035",
   "metadata": {},
   "outputs": [],
   "source": [
    "pst = pyemu.Pst(os.path.join(m_d,\"pest.pst\"))"
   ]
  },
  {
   "cell_type": "code",
   "execution_count": null,
   "id": "4a09b586-5cbc-4884-b21c-3c560c3cca94",
   "metadata": {},
   "outputs": [],
   "source": [
    "oe = pst.ies.obsen"
   ]
  },
  {
   "cell_type": "code",
   "execution_count": null,
   "id": "b27e587d-23db-462f-8912-0086ac979bbc",
   "metadata": {},
   "outputs": [],
   "source": [
    "forecasts = [f.strip() for f in pst.pestpp_options[\"forecasts\"].split(',')]\n",
    "forecasts.sort()\n",
    "forecasts"
   ]
  },
  {
   "cell_type": "code",
   "execution_count": null,
   "id": "5ab49f31-6271-4164-a1c7-e4f791b5e95c",
   "metadata": {},
   "outputs": [],
   "source": [
    "feas_oe = oe.loc[oe[forecasts[1]]<=80,:]\n",
    "oe.shape,feas_oe.shape"
   ]
  },
  {
   "cell_type": "code",
   "execution_count": null,
   "id": "f19f324e-c42f-4910-b2f0-99da3bacaf4f",
   "metadata": {},
   "outputs": [],
   "source": [
    "mx_drn = feas_oe[forecasts[0]].min()\n",
    "mx_drn"
   ]
  },
  {
   "cell_type": "code",
   "execution_count": null,
   "id": "6640ad17-c73b-4d84-87d4-10a081caa656",
   "metadata": {},
   "outputs": [],
   "source": [
    "truth_real = feas_oe.loc[feas_oe[forecasts[0]]==mx_drn,:].index\n",
    "truth_real"
   ]
  },
  {
   "cell_type": "code",
   "execution_count": null,
   "id": "cac2996d-12f8-46e1-8023-6a323d74a9fe",
   "metadata": {},
   "outputs": [],
   "source": [
    "for f in forecasts:\n",
    "    ax = oe.loc[:,f].plot(kind=\"hist\",fc=\"0.5\",alpha=0.5,density=True)\n",
    "    ax = feas_oe.loc[:,f].plot(kind=\"hist\",ax=ax,fc=\"b\",alpha=0.5,density=True)\n",
    "    ax.set_title(f)\n",
    "    plt.show()"
   ]
  },
  {
   "cell_type": "code",
   "execution_count": null,
   "id": "67cf1225-2c1c-4009-9801-e9edeb624811",
   "metadata": {},
   "outputs": [],
   "source": [
    "pe = pst.ies.paren0\n",
    "truth_pvals = pe.loc[truth_real,:].values.flatten()\n",
    "truth_pvals.shape,pst.npar"
   ]
  },
  {
   "cell_type": "code",
   "execution_count": null,
   "id": "80526f6e-696a-43c9-83f7-d73243047f3c",
   "metadata": {},
   "outputs": [],
   "source": [
    "org_pvals = pst.parameter_data.loc[pe.columns,\"parval1\"].copy()\n",
    "pst.parameter_data.loc[pe.columns,\"parval1\"] = truth_pvals\n",
    "pst.control_data.noptmax = 0\n",
    "pst.write(os.path.join(m_d,\"truth.pst\"),version=2)"
   ]
  },
  {
   "cell_type": "code",
   "execution_count": null,
   "id": "c37ba219-23e8-49c6-bfce-9e61bab17ee4",
   "metadata": {},
   "outputs": [],
   "source": [
    "pyemu.os_utils.run(\"pestpp-ies truth.pst\",cwd=m_d)"
   ]
  },
  {
   "cell_type": "markdown",
   "id": "74374214-0981-424c-914c-5773291084e7",
   "metadata": {},
   "source": [
    "Lets checkout the truth HK array:"
   ]
  },
  {
   "cell_type": "code",
   "execution_count": null,
   "id": "616628b1-36cf-40c5-99cc-c1c0c2e0f8ad",
   "metadata": {},
   "outputs": [],
   "source": [
    "df = pd.read_csv(os.path.join(m_d,\"mult2model_info.csv\"))\n",
    "kh1_df = df.loc[df.model_file.str.contains(\"npf_k\"),:]\n",
    "kh1_df\n",
    "org_arr = np.loadtxt(os.path.join(m_d,kh1_df.org_file.iloc[0]))\n",
    "inp_arr = np.loadtxt(os.path.join(m_d,kh1_df.model_file.iloc[0]))\n",
    "mlt_arrs = [np.loadtxt(os.path.join(m_d,afile)) for afile in kh1_df.mlt_file]\n",
    "arrs = [org_arr]\n",
    "arrs.extend(mlt_arrs)\n",
    "arrs.append(inp_arr)\n",
    "\n",
    "mlt_arrs\n",
    "names = [\"org\"]\n",
    "names.extend([mf.split('.')[0].split('_')[-1] for mf in kh1_df.mlt_file])\n",
    "names.append(\"MF6 input\")\n",
    "fig,axes = plt.subplots(1,kh1_df.shape[0]+2,figsize=(5*kh1_df.shape[0]+2,5))\n",
    "for i,ax in enumerate(axes.flatten()):\n",
    "    arr = np.log10(arrs[i])\n",
    "    cb = ax.imshow(arr)\n",
    "    plt.colorbar(cb,ax=ax, fraction=0.046, pad=0.04)\n",
    "    ax.set_title(names[i],loc=\"left\")\n",
    "plt.tight_layout()    "
   ]
  },
  {
   "cell_type": "markdown",
   "id": "9dc24f3c-18e3-490b-b1e9-7a7cb1aa2ab3",
   "metadata": {},
   "source": [
    "Pretty obsvious why this one gives such high post-closure GDE flux..."
   ]
  },
  {
   "cell_type": "code",
   "execution_count": null,
   "id": "fcf2b497-d1cf-4d4d-938b-342c46747f98",
   "metadata": {},
   "outputs": [],
   "source": [
    "pst.set_res(os.path.join(m_d,\"truth.base.rei\"))"
   ]
  },
  {
   "cell_type": "code",
   "execution_count": null,
   "id": "99bd324f-b8fe-4e86-8f0e-251cb3b8ba38",
   "metadata": {},
   "outputs": [],
   "source": [
    "par = pst.parameter_data\n",
    "wpar = par.loc[(par.parnme.str.contains(\"mar\")) | (par.parnme.str.contains(\"dewater\")),:].copy()\n",
    "wpar[\"i\"] = wpar.idx1.astype(int)\n",
    "wpar[\"j\"] = wpar.idx2.astype(int)\n",
    "ijs = set([(i,j) for i,j in zip(wpar.i,wpar.j)])\n",
    "\n",
    "\n",
    "\n",
    "obs = pst.observation_data\n",
    "obs[\"weight\"] = 0.0\n",
    "\n",
    "obs.loc[:,\"obsval\"] = pst.res.loc[pst.obs_names,\"modelled\"].values\n",
    "hobs = obs.loc[obs.obsnme.str.contains(\"hdslay1_t1\"),:].copy()\n",
    "assert hobs.shape[0] > 0\n",
    "hobs['ij'] = hobs.apply(lambda x: (int(x.i),int(x.j)),axis=1)\n",
    "nzhobs = hobs.loc[hobs.ij.isin(ijs)]\n",
    "assert len(nzhobs) == len(ijs)\n",
    "obs.loc[nzhobs.obsnme,\"weight\"] = 3.0\n",
    "drnobs = obs.loc[(obs.usecol==\"drn-gde\") & (obs.time==\"1\"),:]\n",
    "assert len(drnobs) == 1\n",
    "obs.loc[drnobs.obsnme[0],\"weight\"] = 1./(np.abs(obs.loc[drnobs.obsnme[0],\"obsval\"]) * 0.2)\n",
    "assert pst.nnz_obs == len(ijs) + 1"
   ]
  },
  {
   "cell_type": "code",
   "execution_count": null,
   "id": "291f94c2-73ed-4a80-844d-cf77dc9113d1",
   "metadata": {},
   "outputs": [],
   "source": [
    "pst.parameter_data[\"parval1\"] = org_pvals\n",
    "pst.write(os.path.join(t_d,\"pest.pst\"),version=2)"
   ]
  },
  {
   "cell_type": "markdown",
   "id": "cb036491-552f-48e7-8182-a8a23a270efc",
   "metadata": {},
   "source": [
    "We also should remove the truth from the prior ensemble to make sure we arent cheating ;)"
   ]
  },
  {
   "cell_type": "code",
   "execution_count": null,
   "id": "3c2c819c-fdc3-404a-a960-23f62a93d6cf",
   "metadata": {},
   "outputs": [],
   "source": [
    "pe.drop(truth_real,inplace=True)\n",
    "if \"base\" in pe.index:\n",
    "    pe.drop(\"base\",inplace=True)"
   ]
  },
  {
   "cell_type": "code",
   "execution_count": null,
   "id": "e847d6c1-9356-4182-be77-186bc206e0e1",
   "metadata": {},
   "outputs": [],
   "source": [
    "pst.pestpp_options"
   ]
  },
  {
   "cell_type": "code",
   "execution_count": null,
   "id": "082e4aeb-9ce5-405b-9618-6abb511659fb",
   "metadata": {},
   "outputs": [],
   "source": [
    "pyemu.ParameterEnsemble(df=pe,pst=pst).to_binary(os.path.join(t_d,\"prior_pe.jcb\"))"
   ]
  },
  {
   "cell_type": "code",
   "execution_count": null,
   "id": "3953df15-3339-4b28-a73c-c6a7470c42d8",
   "metadata": {},
   "outputs": [],
   "source": []
  },
  {
   "cell_type": "code",
   "execution_count": null,
   "id": "205e5554-650f-44a4-8977-92aeb0a4bbdb",
   "metadata": {},
   "outputs": [],
   "source": []
  },
  {
   "cell_type": "code",
   "execution_count": null,
   "id": "842ce29f-1e3a-4bf5-b055-4b5df5d6370c",
   "metadata": {},
   "outputs": [],
   "source": []
  }
 ],
 "metadata": {
  "language_info": {
   "name": "python"
  }
 },
 "nbformat": 4,
 "nbformat_minor": 5
}
