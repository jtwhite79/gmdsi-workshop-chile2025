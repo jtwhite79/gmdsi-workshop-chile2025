{
 "cells": [
  {
   "cell_type": "markdown",
   "id": "1d55a491-65df-43e0-99be-b4d7f4a6f561",
   "metadata": {},
   "source": [
    "### Running PESTPP-IES"
   ]
  },
  {
   "cell_type": "code",
   "execution_count": null,
   "id": "02199b8f-911d-4667-b19f-b23b09165f3c",
   "metadata": {},
   "outputs": [],
   "source": [
    "import os\n",
    "import shutil\n",
    "import warnings\n",
    "warnings.filterwarnings(\"ignore\")\n",
    "warnings.filterwarnings(\"ignore\", category=DeprecationWarning) \n",
    "import pandas as pd\n",
    "import numpy as np\n",
    "import matplotlib.pyplot as plt;\n",
    "import psutil\n",
    "\n",
    "import sys\n",
    "import pyemu\n",
    "import flopy\n",
    "assert \"dependencies\" in flopy.__file__\n",
    "assert \"dependencies\" in pyemu.__file__\n",
    "sys.path.insert(0,\"..\")\n",
    "import herebedragons as hbd"
   ]
  },
  {
   "cell_type": "code",
   "execution_count": null,
   "id": "8089856b-acde-4f84-84f0-e3ddd9891469",
   "metadata": {},
   "outputs": [],
   "source": [
    "# specify the temporary working folder\n",
    "t_d = os.path.join('pst_template_ies')\n",
    "# get the previously generated PEST dataset\n",
    "org_t_d = os.path.join(\"pst_template_pmc\")\n",
    "if not os.path.exists(org_t_d):\n",
    "    raise Exception()\n",
    "if os.path.exists(t_d):\n",
    "    shutil.rmtree(t_d)\n",
    "shutil.copytree(org_t_d,t_d)"
   ]
  },
  {
   "cell_type": "code",
   "execution_count": null,
   "id": "3be771da-8b4d-424a-9345-85c7be9dc26a",
   "metadata": {},
   "outputs": [],
   "source": [
    "pst_path = os.path.join(t_d, 'pest.pst')\n",
    "pst = pyemu.Pst(pst_path)"
   ]
  },
  {
   "cell_type": "code",
   "execution_count": null,
   "id": "c2898879-8613-4426-97de-26b04d4de9f6",
   "metadata": {},
   "outputs": [],
   "source": [
    "# check to see if obs&weights notebook has been run\n",
    "if not pst.nnz_obs > 0:\n",
    "    raise Exception()"
   ]
  },
  {
   "cell_type": "code",
   "execution_count": null,
   "id": "00ba1a46-cccf-4fc0-8ecd-6b2afe267b10",
   "metadata": {},
   "outputs": [],
   "source": [
    "pst.pestpp_options[\"ies_num_reals\"] = 100\n",
    "pst.pestpp_options[\"ies_bad_phi_sigma\"] = 1.75\n",
    "pst.pestpp_options[\"ies_multimodal_alpha\"] = 0.99"
   ]
  },
  {
   "cell_type": "code",
   "execution_count": null,
   "id": "2e48a5c2-846e-4f45-abc7-768b986ebd82",
   "metadata": {},
   "outputs": [],
   "source": [
    "pst.control_data.noptmax = -2\n",
    "pst.write(os.path.join(t_d, 'pest.pst'),version=2)\n",
    "\n",
    "pyemu.os_utils.run(\"pestpp-ies pest.pst\",cwd=t_d)"
   ]
  },
  {
   "cell_type": "code",
   "execution_count": null,
   "id": "52825015-9e4e-43dd-8ae8-59c9f6556b21",
   "metadata": {},
   "outputs": [],
   "source": [
    "with open(os.path.join(t_d,\"phi.csv\"),'w') as f:\n",
    "    f.write(\"hds,0.5\\n\")\n",
    "    f.write(\"drn,0.5\\n\")\n",
    "pst.pestpp_options[\"ies_phi_factor_file\"] = \"phi.csv\""
   ]
  },
  {
   "cell_type": "code",
   "execution_count": null,
   "id": "0a2dd8d0-b695-49e3-a8aa-1287652e9e58",
   "metadata": {},
   "outputs": [],
   "source": [
    "pst.control_data.noptmax = -2\n",
    "pst.write(os.path.join(t_d, 'pest.pst'),version=2)\n",
    "\n",
    "pyemu.os_utils.run(\"pestpp-ies pest.pst\",cwd=t_d)"
   ]
  },
  {
   "cell_type": "code",
   "execution_count": null,
   "id": "bfc28adf-e195-4dcc-88fe-17b4507c7f89",
   "metadata": {},
   "outputs": [],
   "source": [
    "pst.control_data.noptmax = 5\n",
    "pst.write(os.path.join(t_d, 'pest.pst'),version=2)"
   ]
  },
  {
   "cell_type": "code",
   "execution_count": null,
   "id": "4ee0d4cb-f3bb-463d-8133-d01f55e9c4f1",
   "metadata": {},
   "outputs": [],
   "source": [
    "num_workers = 20\n",
    "m_d = \"master_ies0\""
   ]
  },
  {
   "cell_type": "code",
   "execution_count": null,
   "id": "dbeb32bc-7e30-4705-90dc-a8eff020a63a",
   "metadata": {},
   "outputs": [],
   "source": [
    "pyemu.os_utils.start_workers(t_d, # the folder which contains the \"template\" PEST dataset\n",
    "                            'pestpp-ies', #the PEST software version we want to run\n",
    "                            'pest.pst', # the control file to use with PEST\n",
    "                            num_workers=num_workers, #how many agents to deploy\n",
    "                            worker_root='.', #where to deploy the agent directories; relative to where python is running\n",
    "                            master_dir=m_d, #the manager directory\n",
    "                            )"
   ]
  },
  {
   "cell_type": "code",
   "execution_count": null,
   "id": "133abca8-e082-4062-928a-161c90068f4d",
   "metadata": {},
   "outputs": [],
   "source": [
    "pst = pyemu.Pst(os.path.join(m_d,\"pest.pst\"))\n",
    "obs = pst.observation_data\n",
    "oe_pr = pst.ies.obsen0\n",
    "oe_pt = pst.ies.get(\"obsen\",pst.ies.phiactual.iteration.max())\n",
    "forecasts = pst.pestpp_options[\"forecasts\"].split(\",\")\n",
    "for f in forecasts:\n",
    "    ax = oe_pr.loc[:,f].plot(kind=\"hist\",fc=\"0.5\",alpha=0.5,density=True)\n",
    "    ax = oe_pt.loc[:,f].plot(kind=\"hist\",fc=\"b\",alpha=0.5,density=True)\n",
    "    ylim = ax.get_ylim()\n",
    "    v = obs.loc[f,\"obsval\"]\n",
    "    ax.plot([v,v],ylim,\"r-\",lw=2)\n",
    "    ax.set_title(f)\n",
    "    plt.show()\n",
    "        "
   ]
  },
  {
   "cell_type": "code",
   "execution_count": null,
   "id": "d8f49cab-141b-4666-bb8c-deba413883e8",
   "metadata": {},
   "outputs": [],
   "source": []
  }
 ],
 "metadata": {
  "language_info": {
   "name": "python"
  }
 },
 "nbformat": 4,
 "nbformat_minor": 5
}
